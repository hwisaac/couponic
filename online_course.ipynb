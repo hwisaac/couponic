{
 "cells": [
  {
   "cell_type": "code",
   "execution_count": 45,
   "metadata": {},
   "outputs": [
    {
     "name": "stdout",
     "output_type": "stream",
     "text": [
      "[{'subject': '미리보기 (5분)', 'description': '심화 강의 일부를 미리보기로 제공합니다. \\n강의 방식과 분위기를 확인하실 수 있습니다.', 'video_url': 'https://player.vimeo.com/video/835327473?h=2dd7be43ac', 'free': False}, {'subject': '마법의 단축키 (35분)', 'description': '작업 효율을 극강으로 끌어올리는 숨겨진 단축키를 공개합니다. \\n글밥 아카데미에서만 배우실 수 있습니다.', 'video_url': 'https://player.vimeo.com/video/835327500?h=62c1034076', 'free': False}, {'subject': '대본 텍스트 간편 추출 (16분)', 'description': '원문을 Subtitle Edit에 불러오느라 고생하셨나요? \\n이젠 한 번에 쉽게 해결하세요.', 'video_url': 'https://player.vimeo.com/video/835327564?h=b13287be65', 'free': False}, {'subject': '원 키 타임코딩 (9분)', 'description': '타임코딩, 힘들게 잡으실 필요가 없습니다. \\n이제 손가락 하나로 편안하게 잡으세요.', 'video_url': 'https://player.vimeo.com/video/835327594?h=40252f0b6f', 'free': False}, {'subject': 'TC 미세 조정 (13분)', 'description': 'TC를 정밀하게 조절하려면 이렇게 하시면 됩니다.', 'video_url': 'https://player.vimeo.com/video/835327624?h=8d37fde8b6', 'free': False}, {'subject': '동기화 (14분)', 'description': '영상과 자막이 맞지 않을 때, \\n프레임이 달라도 동기화가 가능합니다.', 'video_url': 'https://player.vimeo.com/video/835327658?h=bdcde1cf98', 'free': False}, {'subject': '장면전환 (13분)', 'description': '장면이 전환되는 순간에 TC를 어떻게 잡아야 하는지 \\n한마디로 정리해 드립니다.', 'video_url': 'https://player.vimeo.com/video/835327721?h=d8d63449e3', 'free': False}, {'subject': '검수 (20분)', 'description': '납품 전 최종 점검은 필수죠. \\nSubtitle Edit에서 제공하는 각종 검사 툴을 소개합니다.', 'video_url': 'https://player.vimeo.com/video/835327751?h=8200c78b29', 'free': False}, {'subject': '더빙 대본 추출 (17분)', 'description': '이젠 더빙 대본도 Subtitle Edit로 만들 수 있습니다. \\n우아하게 더빙 대본을 추출해 보세요.', 'video_url': 'https://player.vimeo.com/video/835327813?h=ca29b53227', 'free': False}]\n"
     ]
    }
   ],
   "source": [
    "from selenium import webdriver\n",
    "from selenium.webdriver.common.by import By\n",
    "from selenium.webdriver.support.select import Select\n",
    "import pyautogui as py\n",
    "from bs4 import BeautifulSoup\n",
    "from selenium.webdriver.chrome.options import Options\n",
    "\n",
    "driver = webdriver.Chrome()\n",
    "\n",
    "target_url = \"http://www.glbab.com/manage/lectureVideo/lecture/edit.jsp?reqPageNo=1&no=82\"\n",
    "driver.get(target_url)\n",
    "\n",
    "tbody = driver.find_element(By.XPATH, \"/html/body/div[13]/div[2]/div/form/div[3]/div/div/div[2]/div/div/div[2]/table/tbody\")\n",
    "\n",
    "trs = tbody.find_elements(By.TAG_NAME, \"tr\")[1:]\n",
    "\n",
    "result = [] \n",
    "\n",
    "for tr in trs:\n",
    "    inputs =tr.find_elements(By.TAG_NAME, 'input')\n",
    "    description = tr.find_element(By.TAG_NAME, 'textarea').text\n",
    "\n",
    "    order = inputs[0].get_attribute('value')\n",
    "    subject = inputs[1].get_attribute('value')\n",
    "    video_url = inputs[2].get_attribute('value')\n",
    "\n",
    "    result.append({\n",
    "                \"subject\": subject,\n",
    "                \"description\": description,\n",
    "                \"video_url\": video_url,\n",
    "                \"free\": False,\n",
    "            })\n",
    "\n",
    "print(result)\n"
   ]
  },
  {
   "cell_type": "code",
   "execution_count": 40,
   "metadata": {},
   "outputs": [
    {
     "data": {
      "text/plain": [
       "32"
      ]
     },
     "execution_count": 40,
     "metadata": {},
     "output_type": "execute_result"
    }
   ],
   "source": [
    "\n",
    "len(result)"
   ]
  },
  {
   "cell_type": "code",
   "execution_count": 38,
   "metadata": {},
   "outputs": [
    {
     "name": "stdout",
     "output_type": "stream",
     "text": [
      "[{'subject': '현대에도 쓰이는 고전일본어', 'description': '', 'video_url': 'https://player.vimeo.com/video/832460398?h=2f9c88ddc7', 'free': False}, {'subject': '일본 문학속 고전일본어', 'description': '', 'video_url': 'https://player.vimeo.com/video/832460420?h=2f1b66e139', 'free': False}, {'subject': '일본어의 시대 구분', 'description': '', 'video_url': 'https://player.vimeo.com/video/832460454?h=06274e2f3f', 'free': False}, {'subject': '번역 연습 1', 'description': '<샐러드 기념일>', 'video_url': 'https://player.vimeo.com/video/832460481?h=fba7ade623', 'free': False}, {'subject': '일본어의 문자사', 'description': '', 'video_url': 'https://player.vimeo.com/video/832460503?h=f3d4e3c18a', 'free': False}, {'subject': '상대일본어의 음운 특징', 'description': '', 'video_url': 'https://player.vimeo.com/video/832460534?h=7373c505a3', 'free': False}, {'subject': '중고일본어의 음운 특징', 'description': '', 'video_url': 'https://player.vimeo.com/video/832460619?h=725176e09a', 'free': False}, {'subject': '중세/근세일본어의 음운 특징', 'description': '', 'video_url': 'https://player.vimeo.com/video/893996725?h=bfdeec8d16', 'free': False}, {'subject': '고전문법-동사 활용', 'description': '', 'video_url': 'https://player.vimeo.com/video/832460666?h=ee2f72c89a', 'free': False}, {'subject': '고전문법-형용사 활용', 'description': '', 'video_url': 'https://player.vimeo.com/video/832460786?h=7fba7523b4', 'free': False}, {'subject': '동사/형용사 활용 연습', 'description': '', 'video_url': 'https://player.vimeo.com/video/832460892?h=6b48059628', 'free': False}, {'subject': '조동사 익히기1', 'description': '(き・けり / つ・ぬ・たり・り)', 'video_url': 'https://player.vimeo.com/video/832460919?h=4d7e0c4e22', 'free': False}, {'subject': '조동사 익히기2', 'description': '(む・むず・けむ・らむ・らし・べし・まし・めり)', 'video_url': 'https://player.vimeo.com/video/832461045?h=5b08dc08a7', 'free': False}, {'subject': '번역 연습2', 'description': '<万葉集>', 'video_url': 'https://player.vimeo.com/video/832461169?h=5a90681f54', 'free': False}, {'subject': '번역 연습3', 'description': '<百人一首> <竹取物語>', 'video_url': 'https://player.vimeo.com/video/832461284?h=6677651726', 'free': False}, {'subject': '조동사 익히기3', 'description': '(なり/ず/じ・まじ)', 'video_url': 'https://player.vimeo.com/video/832461305?h=98fc4f4b49', 'free': False}, {'subject': '조동사 익히기 4', 'description': '(たし・まほし/なり・たり/ごとし/る・らる/す・さす・しむ)', 'video_url': 'https://player.vimeo.com/video/832461431?h=5ac5600396', 'free': False}, {'subject': '번역 연습4', 'description': '<方丈記> <徒然草>', 'video_url': 'https://player.vimeo.com/video/832461544?h=ba4a282bac', 'free': False}, {'subject': '번역 연습5', 'description': '<枕草子>', 'video_url': 'https://player.vimeo.com/video/832461559?h=d09d2c9e73', 'free': False}, {'subject': '번역 연습6', 'description': '<伊勢物語>', 'video_url': 'https://player.vimeo.com/video/832461576?h=4276d78442', 'free': False}, {'subject': '상대문학', 'description': '', 'video_url': 'https://player.vimeo.com/video/832461661?h=1e64af55ae', 'free': False}, {'subject': '중고문학', 'description': '', 'video_url': 'https://player.vimeo.com/video/832461684?h=ccb3f7ccfc', 'free': False}, {'subject': '중세문학', 'description': '', 'video_url': 'https://player.vimeo.com/video/832461815?h=507e7e7a25', 'free': False}, {'subject': '번역 연습7', 'description': '<源氏物語> <平家物語>', 'video_url': 'https://player.vimeo.com/video/832461829?h=6330f0a6f7', 'free': False}, {'subject': '근세문학', 'description': '', 'video_url': 'https://player.vimeo.com/video/832461862?h=2109a0b908', 'free': False}, {'subject': '근대문학', 'description': '', 'video_url': 'https://player.vimeo.com/video/832461885?h=43b3b982d6', 'free': False}, {'subject': '근현대문학', 'description': '', 'video_url': 'https://player.vimeo.com/video/832461916?h=d242fad6d6', 'free': False}, {'subject': '번역 연습8', 'description': '<俳句><石川啄木>', 'video_url': 'https://player.vimeo.com/video/832462054?h=3f37c0f58e', 'free': False}, {'subject': '번역 연습9', 'description': '<宮沢賢治>', 'video_url': 'https://player.vimeo.com/video/832462279?h=4b32cc783c', 'free': False}, {'subject': '번역 연습10', 'description': '<窓際のトトちゃん><いま、会いにゆきます>', 'video_url': 'https://player.vimeo.com/video/832462301?h=ba9d969864', 'free': False}, {'subject': '출판 번역 프로세스', 'description': '', 'video_url': 'https://player.vimeo.com/video/832462462?h=0bd1413fe1', 'free': False}, {'subject': '해외도서 검토서 작성 사례', 'description': '', 'video_url': 'https://player.vimeo.com/video/832460354?h=162bfa3cd4', 'free': False}]\n"
     ]
    }
   ],
   "source": []
  },
  {
   "cell_type": "code",
   "execution_count": 36,
   "metadata": {},
   "outputs": [
    {
     "data": {
      "text/plain": [
       "[2, 3, 4]"
      ]
     },
     "execution_count": 36,
     "metadata": {},
     "output_type": "execute_result"
    }
   ],
   "source": []
  }
 ],
 "metadata": {
  "kernelspec": {
   "display_name": "couponic",
   "language": "python",
   "name": "python3"
  },
  "language_info": {
   "codemirror_mode": {
    "name": "ipython",
    "version": 3
   },
   "file_extension": ".py",
   "mimetype": "text/x-python",
   "name": "python",
   "nbconvert_exporter": "python",
   "pygments_lexer": "ipython3",
   "version": "3.11.6"
  }
 },
 "nbformat": 4,
 "nbformat_minor": 2
}
