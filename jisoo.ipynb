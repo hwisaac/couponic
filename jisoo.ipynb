{
 "cells": [
  {
   "cell_type": "code",
   "execution_count": 160,
   "metadata": {},
   "outputs": [],
   "source": [
    "from selenium import webdriver\n",
    "from selenium.webdriver.common.by import By\n",
    "from selenium.webdriver.support.select import Select\n",
    "import pyautogui as py\n",
    "from bs4 import BeautifulSoup\n",
    "from selenium.webdriver.chrome.options import Options\n",
    "\n",
    "def convert_currency(currency_string):\n",
    "    # 통화 기호와 쉼표 제거\n",
    "    number_string = currency_string.replace('₩', '').replace(',', '')\n",
    "    # 숫자로 변환하여 반환\n",
    "    return int(number_string)\n",
    "\n",
    "\n",
    "options = Options()\n",
    "# options.add_argument('--start-maximized')\n",
    "# options.add_experimental_option('detach', True)\n",
    "\n",
    "driver = webdriver.Chrome(options=options)\n",
    "url = \"https://wearebraindead.com/products/brain-dead-x-homeshake-horsie-t-shirt-clay?variant=44446144331907\"\n",
    "url2 = 'https://wearebraindead.com/products/brain-dead-x-homeshake-horsie-lp-yellow?variant=44150010937475'\n",
    "url3 = 'https://wearebraindead.com/products/oakley-factory-team-suede-flesh-lily-pad-white?variant=43320216191107'\n",
    "soldout_url = 'https://wearebraindead.com/products/ms-45-x-brain-dead-t-shirt-black?variant=39705442713731'\n",
    "top_list_url ='https://wearebraindead.com/collections/apparel?filter.p.m.nodnod.type=gid%3A%2F%2Fshopify%2FMetaobject%2F50877235331&pagination=5'\n",
    "bottom_list_url ='https://wearebraindead.com/collections/apparel?filter.p.m.nodnod.type=gid%3A%2F%2Fshopify%2FMetaobject%2F50877268099&pagination=5'\n",
    "acce_list_url = 'https://wearebraindead.com/collections/accessories?pagination=5'\n",
    "driver.get(acce_list_url) ## 사이트 접속\n",
    "\n",
    "html = driver.page_source\n",
    "soup = BeautifulSoup(html, 'html.parser')\n",
    "\n"
   ]
  },
  {
   "cell_type": "code",
   "execution_count": 45,
   "metadata": {},
   "outputs": [
    {
     "data": {
      "text/plain": [
       "'Brain Dead x Homeshake Horsie LP - Yellow'"
      ]
     },
     "execution_count": 45,
     "metadata": {},
     "output_type": "execute_result"
    }
   ],
   "source": [
    "\n",
    "def get_price(soup):\n",
    "    details = soup.find_all('section')[2]\n",
    "    product_price = details.find( class_ = 'flex justify-between mb-2 text-base text-left _product__price').span.get_text()    \n",
    "    return convert_currency(product_price)\n",
    "    \n",
    "def get_name(soup):\n",
    "    h1 = soup.find('h1')\n",
    "    return h1.get_text()\n",
    "\n",
    "def get_details(soup):\n",
    "  desc = soup.find('div', class_ = '_product__description').find_all('div')[1].find_all('p')\n",
    "  \n",
    "  description_parts = []\n",
    "  \n",
    "  # 색상 변수 초기화\n",
    "  color = None\n",
    "  material = None\n",
    "  \n",
    "  # 각 p 태그를 순회하면서 내용 추출\n",
    "  for p in desc:\n",
    "      text = p.get_text(strip=True)\n",
    "      if text.startswith(\"Color:\"):\n",
    "          color = text.split(\"Color:\")[1].strip()\n",
    "      elif text.startswith(\"Material:\"):\n",
    "          material = text.split(\"Material:\")[1].strip()\n",
    "      else:\n",
    "          description_parts.append(text)\n",
    "  \n",
    "  # description_parts를 합쳐서 하나의 문자열로 만듦\n",
    "  description = \"\\n\".join(description_parts)\n",
    "  \n",
    "  # 결과 딕셔너리 생성\n",
    "  result = {\n",
    "      \"description\": description,\n",
    "      \"color\": color,\n",
    "      \"material\" : material\n",
    "  }\n",
    "  return result\n",
    "\n",
    "def get_photos(soup):\n",
    "  imgs = soup.find('div', class_ = '_product__media').find_all('img')\n",
    "  result = []\n",
    "  for img in imgs:\n",
    "    result.append(  'https:' + img['src'])\n",
    "  return result\n",
    "\n",
    "def get_sizes(soup):\n",
    "  labels = soup.find('div', class_='_product__option-item').find('fieldset', class_ = '_sizes-grid').find_all('label')\n",
    "  size_availability = {}\n",
    "  for label in labels:\n",
    "    size = label.get('aria-label').split(' ')[1]\n",
    "    btn_div = label.find('div', class_='_btn')\n",
    "    \n",
    "    if 'open:bg-black' in btn_div.get('class'):\n",
    "        size_availability[size] = False\n",
    "    else:\n",
    "        size_availability[size] = True\n",
    "            \n",
    "  return size_availability\n",
    "\n",
    "def get_is_sold_out(soup):\n",
    "  btn_text = soup.find('button', id='addToCartForm' ).find('span').get_text()\n",
    "  print(btn_text)\n",
    "  return btn_text == 'Notify me when available'\n"
   ]
  },
  {
   "cell_type": "code",
   "execution_count": null,
   "metadata": {},
   "outputs": [],
   "source": [
    "import json\n",
    "scripts = soup.find('div', class_= '_card').find_all('a')\n",
    "\n",
    "my_urls = []\n",
    "for i, value in enumerate(scripts):\n",
    "  if i % 2 == 0:\n",
    "    my_url = \"https://wearebraindead.com\"+  value['href']\n",
    "    my_urls.append(my_url)\n",
    "\n",
    "my_urls\n",
    "\n",
    "# json.loads(text)"
   ]
  },
  {
   "cell_type": "code",
   "execution_count": null,
   "metadata": {},
   "outputs": [],
   "source": []
  },
  {
   "cell_type": "code",
   "execution_count": null,
   "metadata": {},
   "outputs": [],
   "source": []
  }
 ],
 "metadata": {
  "kernelspec": {
   "display_name": "Python 3",
   "language": "python",
   "name": "python3"
  },
  "language_info": {
   "codemirror_mode": {
    "name": "ipython",
    "version": 3
   },
   "file_extension": ".py",
   "mimetype": "text/x-python",
   "name": "python",
   "nbconvert_exporter": "python",
   "pygments_lexer": "ipython3",
   "version": "3.11.6"
  }
 },
 "nbformat": 4,
 "nbformat_minor": 2
}
