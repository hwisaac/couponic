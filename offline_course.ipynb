{
 "cells": [
  {
   "cell_type": "code",
   "execution_count": 6,
   "metadata": {},
   "outputs": [
    {
     "name": "stdout",
     "output_type": "stream",
     "text": [
      "[{'subject': '', 'description': '수업과 번역가가 알아야할 사항에 대한 오리엔테이션', 'video_url': None, 'free': False}, {'subject': '', 'description': '주어와 대명사 처리', 'video_url': None, 'free': False}, {'subject': '', 'description': '호응', 'video_url': None, 'free': False}, {'subject': '', 'description': '단조롭지 않고 군더더기 없는 글 쓰기', 'video_url': None, 'free': False}, {'subject': '', 'description': '번역투 문장 피하기 1', 'video_url': None, 'free': False}, {'subject': '', 'description': '번역투 문장 피하기 2', 'video_url': None, 'free': False}, {'subject': '', 'description': '시제의 번역', 'video_url': None, 'free': False}, {'subject': '', 'description': '리듬을 살린 글', 'video_url': None, 'free': False}, {'subject': '', 'description': '글의 종류에 따른 표현 방법', 'video_url': None, 'free': False}, {'subject': '', 'description': '제목 정하기', 'video_url': None, 'free': False}, {'subject': '', 'description': '의미를 확실하게 전달하는 글', 'video_url': None, 'free': False}, {'subject': '', 'description': '혼동하기 쉬운 단어', 'video_url': None, 'free': False}]\n"
     ]
    }
   ],
   "source": [
    "from selenium import webdriver\n",
    "from selenium.webdriver.common.by import By\n",
    "from selenium.webdriver.support.select import Select\n",
    "import pyautogui as py\n",
    "from bs4 import BeautifulSoup\n",
    "from selenium.webdriver.chrome.options import Options\n",
    "\n",
    "driver = webdriver.Chrome()\n",
    "\n",
    "target_url = \"http://www.glbab.com/manage/lecture/lecture/edit.jsp?reqPageNo=1&stype=productName&no=48\"\n",
    "driver.get(target_url)\n",
    "\n",
    "tbody = driver.find_element(By.XPATH, \"/html/body/div[13]/div[2]/div/form/div[3]/div/div/div[2]/div/div/div[2]/table/tbody\")\n",
    "\n",
    "trs = tbody.find_elements(By.TAG_NAME, \"tr\")[1:]\n",
    "result = []\n",
    "tr = trs[1]\n",
    "inputs =tr.find_elements(By.TAG_NAME, 'input')\n",
    "for tr in trs:\n",
    "    inputs =tr.find_elements(By.TAG_NAME, 'input')\n",
    "    description = inputs[1].get_attribute('value')\n",
    "    result.append({\n",
    "        \"subject\": \"\",\n",
    "        \"description\": description,\n",
    "        \"video_url\": None,\n",
    "        \"free\": False,\n",
    "    })\n",
    "\n",
    "print(result)\n"
   ]
  },
  {
   "cell_type": "code",
   "execution_count": 5,
   "metadata": {},
   "outputs": [
    {
     "data": {
      "text/plain": [
       "'주어와 대명사 처리'"
      ]
     },
     "execution_count": 5,
     "metadata": {},
     "output_type": "execute_result"
    }
   ],
   "source": [
    "inputs =tr.find_elements(By.TAG_NAME, 'input')\n",
    "description = inputs[1].get_attribute('value')\n"
   ]
  },
  {
   "cell_type": "code",
   "execution_count": null,
   "metadata": {},
   "outputs": [],
   "source": [
    "result = [] \n",
    "\n",
    "for tr in trs:\n",
    "    inputs =tr.find_elements(By.TAG_NAME, 'input')\n",
    "    description = tr.find_element(By.TAG_NAME, 'textarea').text\n",
    "\n",
    "    order = inputs[0].get_attribute('value')\n",
    "    subject = inputs[1].get_attribute('value')\n",
    "    video_url = inputs[2].get_attribute('value')\n",
    "\n",
    "    result.append({\n",
    "                \"subject\": subject,\n",
    "                \"description\": description,\n",
    "                \"video_url\": video_url,\n",
    "                \"free\": False,\n",
    "            })\n",
    "\n",
    "print(result)\n"
   ]
  },
  {
   "cell_type": "code",
   "execution_count": null,
   "metadata": {},
   "outputs": [],
   "source": []
  }
 ],
 "metadata": {
  "kernelspec": {
   "display_name": "couponic",
   "language": "python",
   "name": "python3"
  },
  "language_info": {
   "codemirror_mode": {
    "name": "ipython",
    "version": 3
   },
   "file_extension": ".py",
   "mimetype": "text/x-python",
   "name": "python",
   "nbconvert_exporter": "python",
   "pygments_lexer": "ipython3",
   "version": "3.11.6"
  }
 },
 "nbformat": 4,
 "nbformat_minor": 2
}
